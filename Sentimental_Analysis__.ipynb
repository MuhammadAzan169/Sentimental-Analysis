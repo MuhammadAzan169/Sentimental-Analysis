{
  "nbformat": 4,
  "nbformat_minor": 0,
  "metadata": {
    "colab": {
      "provenance": []
    },
    "kernelspec": {
      "name": "python3",
      "display_name": "Python 3"
    },
    "language_info": {
      "name": "python"
    }
  },
  "cells": [
    {
      "cell_type": "code",
      "source": [
        "import pandas as pd\n",
        "import nltk\n",
        "from sklearn.model_selection import train_test_split\n",
        "from sklearn.feature_extraction.text import TfidfVectorizer\n",
        "from sklearn.linear_model import LogisticRegression\n",
        "from sklearn.metrics import accuracy_score, classification_report\n",
        "\n",
        "# Load the dataset\n",
        "df = pd.read_csv(\"/content/Reviews.csv\")\n",
        "\n",
        "# Define a function to convert score to sentiment (data preprocessing step)\n",
        "def sentiment_label(score):\n",
        "    if score >= 4:\n",
        "        return 'positive'\n",
        "    elif score == 3:\n",
        "        return 'neutral'\n",
        "    else:\n",
        "        return 'negative'\n",
        "\n",
        "# Apply the sentiment_label function to the Score column\n",
        "df['Sentiment'] = df['Score'].apply(sentiment_label)\n",
        "\n",
        "# Split the data into training and test sets\n",
        "X_train, X_test, y_train, y_test = train_test_split(df['Text'], df['Sentiment'], test_size=0.2, random_state=42)\n",
        "\n",
        "# Feature extraction using TF-IDF\n",
        "vectorizer = TfidfVectorizer(max_features=5000)\n",
        "X_train_tfidf = vectorizer.fit_transform(X_train)\n",
        "X_test_tfidf = vectorizer.transform(X_test)\n",
        "\n",
        "# Train a classifier (Logistic Regression)\n",
        "classifier = LogisticRegression(max_iter=1000)\n",
        "classifier.fit(X_train_tfidf, y_train)\n",
        "\n",
        "# Predict sentiments\n",
        "y_pred = classifier.predict(X_test_tfidf)\n",
        "\n",
        "# Calculate accuracy\n",
        "accuracy = accuracy_score(y_test, y_pred)\n",
        "print(f'Accuracy: {accuracy}')\n",
        "\n",
        "# Print classification report\n",
        "report = classification_report(y_test, y_pred)\n",
        "print('Classification Report:')\n",
        "print(report)\n",
        "\n",
        "# Define a function to predict sentiment for new text inputs\n",
        "def predict_sentiment(text):\n",
        "    text_tfidf = vectorizer.transform([text])\n",
        "    sentiment = classifier.predict(text_tfidf)\n",
        "    return sentiment[0]\n",
        "\n",
        "# Example usage\n",
        "text_inputs = [\n",
        "    \"This product is amazing and works well!\",\n",
        "    \"The quality of this product is very poor.\",\n",
        "    \"It was a bad product.\"\n",
        "]\n",
        "\n",
        "for text in text_inputs:\n",
        "    sentiment = predict_sentiment(text)\n",
        "    print(f\"Text: {text}\\nSentiment: {sentiment}\\n\")"
      ],
      "metadata": {
        "colab": {
          "base_uri": "https://localhost:8080/"
        },
        "id": "gnNfMrhk8VIY",
        "outputId": "0fb097b6-4fba-4080-9346-1c0cd5db3ed7"
      },
      "execution_count": null,
      "outputs": [
        {
          "output_type": "stream",
          "name": "stdout",
          "text": [
            "Accuracy: 0.8721886516962645\n",
            "Classification Report:\n",
            "              precision    recall  f1-score   support\n",
            "\n",
            "    negative       0.75      0.69      0.72     16181\n",
            "     neutral       0.52      0.22      0.31      8485\n",
            "    positive       0.91      0.97      0.94     89025\n",
            "\n",
            "    accuracy                           0.87    113691\n",
            "   macro avg       0.72      0.63      0.65    113691\n",
            "weighted avg       0.85      0.87      0.86    113691\n",
            "\n",
            "Text: This product is amazing and works well!\n",
            "Sentiment: positive\n",
            "\n",
            "Text: The quality of this product is very poor.\n",
            "Sentiment: negative\n",
            "\n",
            "Text: It was a bad product.\n",
            "Sentiment: negative\n",
            "\n"
          ]
        }
      ]
    }
  ]
}